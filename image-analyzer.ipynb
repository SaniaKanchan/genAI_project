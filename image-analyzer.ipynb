{
 "cells": [
  {
   "cell_type": "code",
   "execution_count": 23,
   "id": "46ad3d60-477d-42c9-9af5-f76de6158617",
   "metadata": {
    "tags": []
   },
   "outputs": [],
   "source": [
    "import urllib\n",
    "from google.cloud import storage\n",
    "import os\n",
    "import urllib.request\n",
    "import urllib.error\n",
    "import vertexai\n",
    "from vertexai.generative_models import GenerativeModel, Part"
   ]
  },
  {
   "cell_type": "code",
   "execution_count": 27,
   "id": "dbf44c00-79cb-483e-b244-ca7a96af0882",
   "metadata": {
    "tags": []
   },
   "outputs": [],
   "source": [
    "def generate_text(image_bucket_url: str, project_id: str, location: str) -> None:\n",
    "    # Initialize Vertex AI\n",
    "    vertexai.init(project=project_id, location=location)\n",
    "\n",
    "    # Load the model\n",
    "    model = GenerativeModel(model_name=\"gemini-pro-vision\")\n",
    "\n",
    "    # Load example image\n",
    "    #image_url = \"gs://accesibility-image-bucket/im2text.jpg\"\n",
    "    image_content = Part.from_uri(image_bucket_url, \"image/jpeg\")\n",
    "\n",
    "    # Query the model\n",
    "    response = model.generate_content([image_content, \"what is this image?\"])\n",
    "    print(response)\n",
    "\n",
    "    return response.text"
   ]
  },
  {
   "cell_type": "code",
   "execution_count": 29,
   "id": "d8faae7b-69ed-424a-94ba-c4772c49a254",
   "metadata": {
    "tags": []
   },
   "outputs": [],
   "source": [
    "def download_image_from_url(image_url: str):\n",
    "    pic2_path='pic2.jpg'\n",
    "    if os.path.exists(pic2_path):\n",
    "       os.remove(pic2_path)\n",
    "       print(\"Deleted previous image\")\n",
    "    # pic_url = \"https://www.maggi.in/sites/default/files/maggi_logo_png_0.png\"\n",
    "    pic_url = image_url\n",
    "    # Add a user-agent header to mimic a regular web browser request\n",
    "    req = urllib.request.Request(pic_url, headers={'User-Agent': 'Mozilla/5.0'})\n",
    "\n",
    "    try:\n",
    "        with urllib.request.urlopen(req) as response:\n",
    "            if response.status != 200:\n",
    "                print(\"Error:\", response.status, response.reason)\n",
    "            else:\n",
    "                with open('pic2.jpg', 'wb') as handle:\n",
    "                    while True:\n",
    "                        block = response.read(1024)\n",
    "                        if not block:\n",
    "                            break\n",
    "                        handle.write(block)\n",
    "        print(\"Image downloaded successfully!\")\n",
    "    except urllib.error.HTTPError as e:\n",
    "        print(\"HTTP Error:\", e.code, e.reason)\n",
    "    except urllib.error.URLError as e:\n",
    "        print(\"URL Error:\", e.reason)"
   ]
  },
  {
   "cell_type": "code",
   "execution_count": 32,
   "id": "75249e14-75a8-4c92-8cc4-5c08f832cee9",
   "metadata": {
    "tags": []
   },
   "outputs": [],
   "source": [
    "def store_in_cloud():\n",
    "    # Initialize a Cloud Storage client\n",
    "    client = storage.Client()\n",
    "\n",
    "    # Define the bucket name and image file name in Cloud Storage\n",
    "    bucket_name = 'accesibility-image-bucket'  # Replace 'your-bucket-name' with your actual bucket name\n",
    "    image_file_name = 'image.jpg'  # Replace 'image.jpg' with the name you want to give to your image in GCS\n",
    "\n",
    "    # Get the bucket where you want to store the image\n",
    "    bucket = client.bucket(bucket_name)\n",
    "    \n",
    "    # Specify the local path to the image file you want to upload\n",
    "    local_image_path = 'pic2.jpg'  # Replace 'path/to/your/local/image.jpg' with the actual path\n",
    "    \n",
    "    # Upload the image file to Cloud Storage\n",
    "    blob = bucket.blob(image_file_name)\n",
    "    if blob.exists():\n",
    "        blob.delete()\n",
    "    \n",
    "    blob.upload_from_filename(local_image_path)\n",
    "\n",
    "    print(f\"Image {image_file_name} uploaded to bucket {bucket_name}.\")"
   ]
  },
  {
   "cell_type": "code",
   "execution_count": 34,
   "id": "77439967-c35b-4253-b3e2-0593611b95f8",
   "metadata": {
    "tags": []
   },
   "outputs": [
    {
     "name": "stdout",
     "output_type": "stream",
     "text": [
      "Deleted previous image\n",
      "Image downloaded successfully!\n",
      "Image image.jpg uploaded to bucket accesibility-image-bucket.\n",
      "candidates {\n",
      "  content {\n",
      "    role: \"model\"\n",
      "    parts {\n",
      "      text: \" This is a photo of a chameleon on a flower.\"\n",
      "    }\n",
      "  }\n",
      "  finish_reason: STOP\n",
      "  safety_ratings {\n",
      "    category: HARM_CATEGORY_HATE_SPEECH\n",
      "    probability: NEGLIGIBLE\n",
      "    probability_score: 0.04484790191054344\n",
      "    severity: HARM_SEVERITY_NEGLIGIBLE\n",
      "    severity_score: 0.09334687888622284\n",
      "  }\n",
      "  safety_ratings {\n",
      "    category: HARM_CATEGORY_DANGEROUS_CONTENT\n",
      "    probability: NEGLIGIBLE\n",
      "    probability_score: 0.09170696139335632\n",
      "    severity: HARM_SEVERITY_NEGLIGIBLE\n",
      "    severity_score: 0.14596547186374664\n",
      "  }\n",
      "  safety_ratings {\n",
      "    category: HARM_CATEGORY_HARASSMENT\n",
      "    probability: NEGLIGIBLE\n",
      "    probability_score: 0.061424046754837036\n",
      "    severity: HARM_SEVERITY_NEGLIGIBLE\n",
      "    severity_score: 0.0768222063779831\n",
      "  }\n",
      "  safety_ratings {\n",
      "    category: HARM_CATEGORY_SEXUALLY_EXPLICIT\n",
      "    probability: NEGLIGIBLE\n",
      "    probability_score: 0.08151976019144058\n",
      "    severity: HARM_SEVERITY_NEGLIGIBLE\n",
      "    severity_score: 0.09351231157779694\n",
      "  }\n",
      "}\n",
      "usage_metadata {\n",
      "  prompt_token_count: 263\n",
      "  candidates_token_count: 11\n",
      "  total_token_count: 274\n",
      "}\n",
      "\n"
     ]
    },
    {
     "data": {
      "text/plain": [
       "' This is a photo of a chameleon on a flower.'"
      ]
     },
     "execution_count": 34,
     "metadata": {},
     "output_type": "execute_result"
    }
   ],
   "source": [
    "bucket_image_url = \"gs://accesibility-image-bucket/image.jpg\"\n",
    "\n",
    "download_image_from_url(\"https://letsenhance.io/static/8f5e523ee6b2479e26ecc91b9c25261e/1015f/MainAfter.jpg\")\n",
    "store_in_cloud()\n",
    "project_id = 'accesibilityimagereader'\n",
    "location = 'us-central1'\n",
    "generate_text(bucket_image_url, project_id, location)"
   ]
  }
 ],
 "metadata": {
  "environment": {
   "kernel": "python3",
   "name": "common-cu121.m119",
   "type": "gcloud",
   "uri": "us-docker.pkg.dev/deeplearning-platform-release/gcr.io/base-cu121:m119"
  },
  "kernelspec": {
   "display_name": "Python 3",
   "language": "python",
   "name": "python3"
  },
  "language_info": {
   "codemirror_mode": {
    "name": "ipython",
    "version": 3
   },
   "file_extension": ".py",
   "mimetype": "text/x-python",
   "name": "python",
   "nbconvert_exporter": "python",
   "pygments_lexer": "ipython3",
   "version": "3.10.14"
  }
 },
 "nbformat": 4,
 "nbformat_minor": 5
}
